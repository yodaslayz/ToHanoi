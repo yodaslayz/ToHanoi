{
  "nbformat": 4,
  "nbformat_minor": 0,
  "metadata": {
    "colab": {
      "provenance": [],
      "authorship_tag": "ABX9TyOTX21UIfOcLvzL/+5P6Rg7",
      "include_colab_link": true
    },
    "kernelspec": {
      "name": "python3",
      "display_name": "Python 3"
    },
    "language_info": {
      "name": "python"
    }
  },
  "cells": [
    {
      "cell_type": "markdown",
      "metadata": {
        "id": "view-in-github",
        "colab_type": "text"
      },
      "source": [
        "<a href=\"https://colab.research.google.com/github/yodaslayz/ToHanoi/blob/main/Outline_For_Assignment.ipynb\" target=\"_parent\"><img src=\"https://colab.research.google.com/assets/colab-badge.svg\" alt=\"Open In Colab\"/></a>"
      ]
    },
    {
      "cell_type": "markdown",
      "source": [
        "#Problem\n",
        "I am trying to create a Towers of Hanoi Puzzle interface to play on.\n",
        "Users will be able to run the code and play the puzzle.\n",
        "The system will wait for moves from the user and reflect what the user has chosen to do within the Screen?"
      ],
      "metadata": {
        "id": "gdfeOzQwvbCG"
      }
    },
    {
      "cell_type": "code",
      "execution_count": null,
      "metadata": {
        "id": "jIpHrssgvRzn"
      },
      "outputs": [],
      "source": [
        "def Player_move() #This is what captures what the player decides to do, waiting on the next move.\n"
      ]
    },
    {
      "cell_type": "code",
      "source": [
        "def Towers_of_Hanoi(Amount_of_Rings) #This is the outline of the game itself which is the 3 rings the user is able to interact with and select as a next move for the rings.\n",
        "global Tower 1\n",
        "global Tower 2\n",
        "global Tower 3\n",
        "Tower 1 = [Amount_of_Rings]\n",
        "Tower 2 = []\n",
        "Tower 3 = []\n",
        "# I think this would place all the Rings on the 1st Tower and leave the other two as open moves."
      ],
      "metadata": {
        "id": "vC_P5KEbvxEh"
      },
      "execution_count": null,
      "outputs": []
    },
    {
      "cell_type": "code",
      "source": [
        "def Amount_of_Rings() #This is the amount of rings the user decides to add to play with. The options being 3,5,7,and 9.\n",
        "global Amount_of_Rings\n",
        "Amount_of_Rings = 0\n",
        "# get input from user\n",
        "if Amount_of_Rings == 3\n",
        "  return 3\n",
        "if Amount_of_Rings == 5\n",
        "  return 5\n",
        "if Amount_of_Rings == 7\n",
        "  return 7\n",
        "if Amount_of_Rings == 9\n",
        "  return 9\n"
      ],
      "metadata": {
        "id": "WLXMeNW9vxhn"
      },
      "execution_count": null,
      "outputs": []
    },
    {
      "cell_type": "code",
      "source": [
        "def size_of_rings(ring)\n",
        "# This is the comparison of ring size between the rings which kind of goes hand and hand with the valid move. If a ring of a larger size is attempted to be placed on a smaller ring\n",
        "# Then the move would not be valid as that defeats the purpose of the puzzle.\n",
        "global ring_size\n",
        "ring_size = ring\n",
        "# Rings may be split into colors later on but for now they are all the basic color"
      ],
      "metadata": {
        "id": "9vRdzsGav_x8"
      },
      "execution_count": null,
      "outputs": []
    },
    {
      "cell_type": "code",
      "source": [
        "def valid_move() #As mentioned above this tells the user or indicates towards the program that the move the player decides to do is valid or invalid.\n",
        "\n",
        "if Tower 1[ring_size] > Tower 2[ring_size]\n",
        "print (\"Invalid Move\")\n",
        "  return false\n",
        "if Tower 1[ring_size] < Tower 2[ring_size]\n",
        "  return true"
      ],
      "metadata": {
        "id": "xoxBQingwETS"
      },
      "execution_count": null,
      "outputs": []
    },
    {
      "cell_type": "code",
      "source": [
        "def Timer() #This just times the user and the amount of time they take playing the puzzle.\n",
        "global timer\n",
        "timer = 0\n",
        "\n",
        "# I need this to say like while the game is ongoing AFTER the 1st move, the timer continiously goes up.\n",
        "#I know the below is not it right now, but it will be revised when necessary\n",
        "if Player_move == true\n",
        "  timer = timer + 1\n",
        "  return timer\n"
      ],
      "metadata": {
        "id": "MtcD-kvMxI7C"
      },
      "execution_count": null,
      "outputs": []
    },
    {
      "cell_type": "code",
      "source": [
        "def Reset() #This should be a Reset button that the player uses to restart the game if they get stuck or decide to start over.\n",
        "global Reset_Button\n",
        "Reset_Button = false\n",
        "if move == Reset_Button\n",
        "  Reset_Button = true\n",
        "  return Reset_Button\n",
        "if Reset_Button == true\n",
        "  end game #Idk how to do this yet"
      ],
      "metadata": {
        "id": "yxXKuRwIxTTX"
      },
      "execution_count": null,
      "outputs": []
    },
    {
      "cell_type": "code",
      "source": [
        "def Best_move_counter() #This displays the minimum amount of moves a player can make for best move/outcome\n",
        "if Amount_of_Rings == 3\n",
        "  return 7\n",
        "if Amount_of_Rings == 5\n",
        "  return 31\n",
        "if Amount_of_Rings == 7\n",
        "  return 127\n",
        "if Amount_of_Rings == 9\n",
        "  return 327\n",
        "\n",
        "print(Best_move_counter)"
      ],
      "metadata": {
        "id": "lyM0zKsK8Xdp"
      },
      "execution_count": null,
      "outputs": []
    }
  ]
}